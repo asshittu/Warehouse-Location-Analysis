{
 "cells": [
  {
   "cell_type": "code",
   "execution_count": 520,
   "id": "6b819334",
   "metadata": {},
   "outputs": [],
   "source": [
    "import pandas as pd\n",
    "import numpy as np\n",
    "import matplotlib.pyplot as plt\n",
    "import matplotlib.ticker as mtick \n",
    "import seaborn as sns\n",
    "import geopandas as gpd\n",
    "from sklearn.cluster import KMeans"
   ]
  },
  {
   "cell_type": "markdown",
   "id": "899fc53a",
   "metadata": {},
   "source": [
    "## Data Preprocessing"
   ]
  },
  {
   "cell_type": "code",
   "execution_count": 521,
   "id": "ba2bfc3f",
   "metadata": {},
   "outputs": [],
   "source": [
    "# Loading the sales_dataset\n",
    "sales_data = pd.read_csv('sales_dataset.csv')"
   ]
  },
  {
   "cell_type": "code",
   "execution_count": 522,
   "id": "e67e3bd0",
   "metadata": {},
   "outputs": [],
   "source": [
    "# Making a copy of sales_dataset for analysis\n",
    "sales_data2 = sales_data.copy()"
   ]
  },
  {
   "cell_type": "code",
   "execution_count": 523,
   "id": "62e2e39e",
   "metadata": {},
   "outputs": [
    {
     "data": {
      "text/html": [
       "<div>\n",
       "<style scoped>\n",
       "    .dataframe tbody tr th:only-of-type {\n",
       "        vertical-align: middle;\n",
       "    }\n",
       "\n",
       "    .dataframe tbody tr th {\n",
       "        vertical-align: top;\n",
       "    }\n",
       "\n",
       "    .dataframe thead th {\n",
       "        text-align: right;\n",
       "    }\n",
       "</style>\n",
       "<table border=\"1\" class=\"dataframe\">\n",
       "  <thead>\n",
       "    <tr style=\"text-align: right;\">\n",
       "      <th></th>\n",
       "      <th>order_date</th>\n",
       "      <th>order_number</th>\n",
       "      <th>customer_id</th>\n",
       "      <th>customer_name</th>\n",
       "      <th>zipcode</th>\n",
       "      <th>city</th>\n",
       "      <th>state_id</th>\n",
       "      <th>state_name</th>\n",
       "      <th>product_code</th>\n",
       "      <th>product_name</th>\n",
       "      <th>category</th>\n",
       "      <th>unit_price</th>\n",
       "      <th>unit_profit</th>\n",
       "      <th>quantity</th>\n",
       "      <th>revenue</th>\n",
       "      <th>profit</th>\n",
       "      <th>discount_percentage</th>\n",
       "      <th>discount_amount</th>\n",
       "      <th>lead_time_weeks</th>\n",
       "    </tr>\n",
       "  </thead>\n",
       "  <tbody>\n",
       "    <tr>\n",
       "      <th>0</th>\n",
       "      <td>2019-11-13</td>\n",
       "      <td>Ord-3255406</td>\n",
       "      <td>cust-00004673</td>\n",
       "      <td>Ariana Nixon</td>\n",
       "      <td>32162</td>\n",
       "      <td>The Villages</td>\n",
       "      <td>FL</td>\n",
       "      <td>Florida</td>\n",
       "      <td>Nut-48306</td>\n",
       "      <td>Macadamia Style 5 Raw 11.34kg Bag</td>\n",
       "      <td>Nuts</td>\n",
       "      <td>26.26</td>\n",
       "      <td>9.19</td>\n",
       "      <td>3</td>\n",
       "      <td>78.77</td>\n",
       "      <td>27.57</td>\n",
       "      <td>0.0</td>\n",
       "      <td>0.0</td>\n",
       "      <td>2</td>\n",
       "    </tr>\n",
       "    <tr>\n",
       "      <th>1</th>\n",
       "      <td>2016-04-06</td>\n",
       "      <td>Ord-6058810</td>\n",
       "      <td>cust-00038703</td>\n",
       "      <td>Mohammad Esparza</td>\n",
       "      <td>80123</td>\n",
       "      <td>Littleton</td>\n",
       "      <td>CO</td>\n",
       "      <td>Colorado</td>\n",
       "      <td>Nut-48306</td>\n",
       "      <td>Macadamia Style 5 Raw 11.34kg Bag</td>\n",
       "      <td>Nuts</td>\n",
       "      <td>26.26</td>\n",
       "      <td>9.19</td>\n",
       "      <td>1</td>\n",
       "      <td>26.26</td>\n",
       "      <td>9.19</td>\n",
       "      <td>0.0</td>\n",
       "      <td>0.0</td>\n",
       "      <td>2</td>\n",
       "    </tr>\n",
       "    <tr>\n",
       "      <th>2</th>\n",
       "      <td>2019-08-15</td>\n",
       "      <td>Ord-1857958</td>\n",
       "      <td>cust-00106675</td>\n",
       "      <td>Jada Porter</td>\n",
       "      <td>55433</td>\n",
       "      <td>Minneapolis</td>\n",
       "      <td>MN</td>\n",
       "      <td>Minnesota</td>\n",
       "      <td>Nut-48306</td>\n",
       "      <td>Macadamia Style 5 Raw 11.34kg Bag</td>\n",
       "      <td>Nuts</td>\n",
       "      <td>26.26</td>\n",
       "      <td>9.19</td>\n",
       "      <td>4</td>\n",
       "      <td>105.02</td>\n",
       "      <td>36.76</td>\n",
       "      <td>0.0</td>\n",
       "      <td>0.0</td>\n",
       "      <td>2</td>\n",
       "    </tr>\n",
       "    <tr>\n",
       "      <th>3</th>\n",
       "      <td>2019-10-01</td>\n",
       "      <td>Ord-8598538</td>\n",
       "      <td>cust-00188381</td>\n",
       "      <td>Ari Mcgrath</td>\n",
       "      <td>36201</td>\n",
       "      <td>Anniston</td>\n",
       "      <td>AL</td>\n",
       "      <td>Alabama</td>\n",
       "      <td>Nut-48306</td>\n",
       "      <td>Macadamia Style 5 Raw 11.34kg Bag</td>\n",
       "      <td>Nuts</td>\n",
       "      <td>26.26</td>\n",
       "      <td>9.19</td>\n",
       "      <td>3</td>\n",
       "      <td>78.77</td>\n",
       "      <td>27.57</td>\n",
       "      <td>0.0</td>\n",
       "      <td>0.0</td>\n",
       "      <td>2</td>\n",
       "    </tr>\n",
       "    <tr>\n",
       "      <th>4</th>\n",
       "      <td>2016-07-24</td>\n",
       "      <td>Ord-3416282</td>\n",
       "      <td>cust-00213804</td>\n",
       "      <td>Kaitlynn Watkins</td>\n",
       "      <td>46143</td>\n",
       "      <td>Greenwood</td>\n",
       "      <td>IN</td>\n",
       "      <td>Indiana</td>\n",
       "      <td>Nut-48306</td>\n",
       "      <td>Macadamia Style 5 Raw 11.34kg Bag</td>\n",
       "      <td>Nuts</td>\n",
       "      <td>26.26</td>\n",
       "      <td>9.19</td>\n",
       "      <td>4</td>\n",
       "      <td>105.02</td>\n",
       "      <td>36.76</td>\n",
       "      <td>0.0</td>\n",
       "      <td>0.0</td>\n",
       "      <td>2</td>\n",
       "    </tr>\n",
       "  </tbody>\n",
       "</table>\n",
       "</div>"
      ],
      "text/plain": [
       "   order_date order_number    customer_id     customer_name  zipcode  \\\n",
       "0  2019-11-13  Ord-3255406  cust-00004673      Ariana Nixon    32162   \n",
       "1  2016-04-06  Ord-6058810  cust-00038703  Mohammad Esparza    80123   \n",
       "2  2019-08-15  Ord-1857958  cust-00106675       Jada Porter    55433   \n",
       "3  2019-10-01  Ord-8598538  cust-00188381       Ari Mcgrath    36201   \n",
       "4  2016-07-24  Ord-3416282  cust-00213804  Kaitlynn Watkins    46143   \n",
       "\n",
       "           city state_id state_name product_code  \\\n",
       "0  The Villages       FL    Florida    Nut-48306   \n",
       "1     Littleton       CO   Colorado    Nut-48306   \n",
       "2   Minneapolis       MN  Minnesota    Nut-48306   \n",
       "3      Anniston       AL    Alabama    Nut-48306   \n",
       "4     Greenwood       IN    Indiana    Nut-48306   \n",
       "\n",
       "                        product_name category  unit_price  unit_profit  \\\n",
       "0  Macadamia Style 5 Raw 11.34kg Bag     Nuts       26.26         9.19   \n",
       "1  Macadamia Style 5 Raw 11.34kg Bag     Nuts       26.26         9.19   \n",
       "2  Macadamia Style 5 Raw 11.34kg Bag     Nuts       26.26         9.19   \n",
       "3  Macadamia Style 5 Raw 11.34kg Bag     Nuts       26.26         9.19   \n",
       "4  Macadamia Style 5 Raw 11.34kg Bag     Nuts       26.26         9.19   \n",
       "\n",
       "   quantity  revenue  profit  discount_percentage  discount_amount  \\\n",
       "0         3    78.77   27.57                  0.0              0.0   \n",
       "1         1    26.26    9.19                  0.0              0.0   \n",
       "2         4   105.02   36.76                  0.0              0.0   \n",
       "3         3    78.77   27.57                  0.0              0.0   \n",
       "4         4   105.02   36.76                  0.0              0.0   \n",
       "\n",
       "   lead_time_weeks  \n",
       "0                2  \n",
       "1                2  \n",
       "2                2  \n",
       "3                2  \n",
       "4                2  "
      ]
     },
     "execution_count": 523,
     "metadata": {},
     "output_type": "execute_result"
    }
   ],
   "source": [
    "# Viewing the data\n",
    "sales_data2.head()"
   ]
  },
  {
   "cell_type": "code",
   "execution_count": 524,
   "id": "4d0b4dc2",
   "metadata": {},
   "outputs": [
    {
     "data": {
      "text/plain": [
       "order_date              object\n",
       "order_number            object\n",
       "customer_id             object\n",
       "customer_name           object\n",
       "zipcode                  int64\n",
       "city                    object\n",
       "state_id                object\n",
       "state_name              object\n",
       "product_code            object\n",
       "product_name            object\n",
       "category                object\n",
       "unit_price             float64\n",
       "unit_profit            float64\n",
       "quantity                 int64\n",
       "revenue                float64\n",
       "profit                 float64\n",
       "discount_percentage    float64\n",
       "discount_amount        float64\n",
       "lead_time_weeks          int64\n",
       "dtype: object"
      ]
     },
     "execution_count": 524,
     "metadata": {},
     "output_type": "execute_result"
    }
   ],
   "source": [
    "# Checking datatypes of each column\n",
    "sales_data2.dtypes"
   ]
  },
  {
   "cell_type": "code",
   "execution_count": 525,
   "id": "2f18318b",
   "metadata": {},
   "outputs": [
    {
     "data": {
      "text/plain": [
       "(120000, 19)"
      ]
     },
     "execution_count": 525,
     "metadata": {},
     "output_type": "execute_result"
    }
   ],
   "source": [
    "# Number of rows and columns (x and y axis)\n",
    "sales_data2.shape"
   ]
  },
  {
   "cell_type": "code",
   "execution_count": 526,
   "id": "b69947e1",
   "metadata": {},
   "outputs": [
    {
     "data": {
      "text/plain": [
       "order_date             0\n",
       "order_number           0\n",
       "customer_id            0\n",
       "customer_name          0\n",
       "zipcode                0\n",
       "city                   0\n",
       "state_id               0\n",
       "state_name             0\n",
       "product_code           0\n",
       "product_name           0\n",
       "category               0\n",
       "unit_price             0\n",
       "unit_profit            0\n",
       "quantity               0\n",
       "revenue                0\n",
       "profit                 0\n",
       "discount_percentage    0\n",
       "discount_amount        0\n",
       "lead_time_weeks        0\n",
       "dtype: int64"
      ]
     },
     "execution_count": 526,
     "metadata": {},
     "output_type": "execute_result"
    }
   ],
   "source": [
    "# Checking for missing values\n",
    "sales_data2.isnull().sum()"
   ]
  },
  {
   "cell_type": "code",
   "execution_count": 527,
   "id": "43a929c8",
   "metadata": {},
   "outputs": [
    {
     "data": {
      "text/plain": [
       "order_date             datetime64[ns]\n",
       "order_number                   object\n",
       "customer_id                    object\n",
       "customer_name                  object\n",
       "zipcode                         int64\n",
       "city                           object\n",
       "state_id                       object\n",
       "state_name                     object\n",
       "product_code                   object\n",
       "product_name                   object\n",
       "category                       object\n",
       "unit_price                    float64\n",
       "unit_profit                   float64\n",
       "quantity                        int64\n",
       "revenue                       float64\n",
       "profit                        float64\n",
       "discount_percentage           float64\n",
       "discount_amount               float64\n",
       "lead_time_weeks                 int64\n",
       "dtype: object"
      ]
     },
     "execution_count": 527,
     "metadata": {},
     "output_type": "execute_result"
    }
   ],
   "source": [
    "# Converting order_date column to datetime\n",
    "sales_data2['order_date'] = pd.to_datetime(sales_data2['order_date'])\n",
    "\n",
    "sales_data2.dtypes"
   ]
  },
  {
   "cell_type": "code",
   "execution_count": 528,
   "id": "8f4dbf0e",
   "metadata": {},
   "outputs": [
    {
     "data": {
      "text/html": [
       "<div>\n",
       "<style scoped>\n",
       "    .dataframe tbody tr th:only-of-type {\n",
       "        vertical-align: middle;\n",
       "    }\n",
       "\n",
       "    .dataframe tbody tr th {\n",
       "        vertical-align: top;\n",
       "    }\n",
       "\n",
       "    .dataframe thead th {\n",
       "        text-align: right;\n",
       "    }\n",
       "</style>\n",
       "<table border=\"1\" class=\"dataframe\">\n",
       "  <thead>\n",
       "    <tr style=\"text-align: right;\">\n",
       "      <th></th>\n",
       "      <th>zipcode</th>\n",
       "      <th>unit_price</th>\n",
       "      <th>unit_profit</th>\n",
       "      <th>quantity</th>\n",
       "      <th>revenue</th>\n",
       "      <th>profit</th>\n",
       "      <th>discount_percentage</th>\n",
       "      <th>discount_amount</th>\n",
       "      <th>lead_time_weeks</th>\n",
       "    </tr>\n",
       "  </thead>\n",
       "  <tbody>\n",
       "    <tr>\n",
       "      <th>count</th>\n",
       "      <td>120000.000000</td>\n",
       "      <td>120000.000000</td>\n",
       "      <td>120000.000000</td>\n",
       "      <td>120000.000000</td>\n",
       "      <td>120000.000000</td>\n",
       "      <td>120000.000000</td>\n",
       "      <td>120000.000000</td>\n",
       "      <td>120000.000000</td>\n",
       "      <td>120000.000000</td>\n",
       "    </tr>\n",
       "    <tr>\n",
       "      <th>mean</th>\n",
       "      <td>52900.644142</td>\n",
       "      <td>30.881986</td>\n",
       "      <td>12.177759</td>\n",
       "      <td>2.494700</td>\n",
       "      <td>75.143118</td>\n",
       "      <td>28.488434</td>\n",
       "      <td>0.024401</td>\n",
       "      <td>1.888474</td>\n",
       "      <td>1.891317</td>\n",
       "    </tr>\n",
       "    <tr>\n",
       "      <th>std</th>\n",
       "      <td>30931.138697</td>\n",
       "      <td>7.629023</td>\n",
       "      <td>3.554572</td>\n",
       "      <td>1.117407</td>\n",
       "      <td>39.631622</td>\n",
       "      <td>16.538022</td>\n",
       "      <td>0.058018</td>\n",
       "      <td>5.170910</td>\n",
       "      <td>1.287887</td>\n",
       "    </tr>\n",
       "    <tr>\n",
       "      <th>min</th>\n",
       "      <td>602.000000</td>\n",
       "      <td>11.920000</td>\n",
       "      <td>4.170000</td>\n",
       "      <td>1.000000</td>\n",
       "      <td>9.530000</td>\n",
       "      <td>1.790000</td>\n",
       "      <td>0.000000</td>\n",
       "      <td>0.000000</td>\n",
       "      <td>0.000000</td>\n",
       "    </tr>\n",
       "    <tr>\n",
       "      <th>25%</th>\n",
       "      <td>27910.000000</td>\n",
       "      <td>26.440000</td>\n",
       "      <td>9.770000</td>\n",
       "      <td>1.000000</td>\n",
       "      <td>38.360000</td>\n",
       "      <td>14.790000</td>\n",
       "      <td>0.000000</td>\n",
       "      <td>0.000000</td>\n",
       "      <td>1.000000</td>\n",
       "    </tr>\n",
       "    <tr>\n",
       "      <th>50%</th>\n",
       "      <td>49301.000000</td>\n",
       "      <td>30.970000</td>\n",
       "      <td>11.900000</td>\n",
       "      <td>2.000000</td>\n",
       "      <td>71.420000</td>\n",
       "      <td>25.490000</td>\n",
       "      <td>0.000000</td>\n",
       "      <td>0.000000</td>\n",
       "      <td>2.000000</td>\n",
       "    </tr>\n",
       "    <tr>\n",
       "      <th>75%</th>\n",
       "      <td>83445.000000</td>\n",
       "      <td>36.340000</td>\n",
       "      <td>14.920000</td>\n",
       "      <td>3.000000</td>\n",
       "      <td>104.720000</td>\n",
       "      <td>38.660000</td>\n",
       "      <td>0.000000</td>\n",
       "      <td>0.000000</td>\n",
       "      <td>3.000000</td>\n",
       "    </tr>\n",
       "    <tr>\n",
       "      <th>max</th>\n",
       "      <td>99801.000000</td>\n",
       "      <td>47.490000</td>\n",
       "      <td>21.270000</td>\n",
       "      <td>4.000000</td>\n",
       "      <td>189.950000</td>\n",
       "      <td>85.090000</td>\n",
       "      <td>0.200000</td>\n",
       "      <td>37.990000</td>\n",
       "      <td>4.000000</td>\n",
       "    </tr>\n",
       "  </tbody>\n",
       "</table>\n",
       "</div>"
      ],
      "text/plain": [
       "             zipcode     unit_price    unit_profit       quantity  \\\n",
       "count  120000.000000  120000.000000  120000.000000  120000.000000   \n",
       "mean    52900.644142      30.881986      12.177759       2.494700   \n",
       "std     30931.138697       7.629023       3.554572       1.117407   \n",
       "min       602.000000      11.920000       4.170000       1.000000   \n",
       "25%     27910.000000      26.440000       9.770000       1.000000   \n",
       "50%     49301.000000      30.970000      11.900000       2.000000   \n",
       "75%     83445.000000      36.340000      14.920000       3.000000   \n",
       "max     99801.000000      47.490000      21.270000       4.000000   \n",
       "\n",
       "             revenue         profit  discount_percentage  discount_amount  \\\n",
       "count  120000.000000  120000.000000        120000.000000    120000.000000   \n",
       "mean       75.143118      28.488434             0.024401         1.888474   \n",
       "std        39.631622      16.538022             0.058018         5.170910   \n",
       "min         9.530000       1.790000             0.000000         0.000000   \n",
       "25%        38.360000      14.790000             0.000000         0.000000   \n",
       "50%        71.420000      25.490000             0.000000         0.000000   \n",
       "75%       104.720000      38.660000             0.000000         0.000000   \n",
       "max       189.950000      85.090000             0.200000        37.990000   \n",
       "\n",
       "       lead_time_weeks  \n",
       "count    120000.000000  \n",
       "mean          1.891317  \n",
       "std           1.287887  \n",
       "min           0.000000  \n",
       "25%           1.000000  \n",
       "50%           2.000000  \n",
       "75%           3.000000  \n",
       "max           4.000000  "
      ]
     },
     "execution_count": 528,
     "metadata": {},
     "output_type": "execute_result"
    }
   ],
   "source": [
    "# Checking basic statistics of the dataset\n",
    "sales_data2.describe()"
   ]
  },
  {
   "cell_type": "code",
   "execution_count": 529,
   "id": "b5c7c44d",
   "metadata": {},
   "outputs": [
    {
     "data": {
      "text/html": [
       "<div>\n",
       "<style scoped>\n",
       "    .dataframe tbody tr th:only-of-type {\n",
       "        vertical-align: middle;\n",
       "    }\n",
       "\n",
       "    .dataframe tbody tr th {\n",
       "        vertical-align: top;\n",
       "    }\n",
       "\n",
       "    .dataframe thead th {\n",
       "        text-align: right;\n",
       "    }\n",
       "</style>\n",
       "<table border=\"1\" class=\"dataframe\">\n",
       "  <thead>\n",
       "    <tr style=\"text-align: right;\">\n",
       "      <th></th>\n",
       "      <th>order_date</th>\n",
       "      <th>order_number</th>\n",
       "      <th>customer_id</th>\n",
       "      <th>customer_name</th>\n",
       "      <th>zipcode</th>\n",
       "      <th>city</th>\n",
       "      <th>state_id</th>\n",
       "      <th>state_name</th>\n",
       "      <th>product_code</th>\n",
       "      <th>product_name</th>\n",
       "      <th>category</th>\n",
       "      <th>unit_price</th>\n",
       "      <th>unit_profit</th>\n",
       "      <th>quantity</th>\n",
       "      <th>revenue</th>\n",
       "      <th>profit</th>\n",
       "      <th>discount_percentage</th>\n",
       "      <th>discount_amount</th>\n",
       "      <th>lead_time_weeks</th>\n",
       "    </tr>\n",
       "  </thead>\n",
       "  <tbody>\n",
       "    <tr>\n",
       "      <th>0</th>\n",
       "      <td>2019-11-13</td>\n",
       "      <td>Ord-3255406</td>\n",
       "      <td>cust-00004673</td>\n",
       "      <td>Ariana Nixon</td>\n",
       "      <td>32162</td>\n",
       "      <td>The Villages</td>\n",
       "      <td>FL</td>\n",
       "      <td>Florida</td>\n",
       "      <td>Nut-48306</td>\n",
       "      <td>Macadamia Style 5 Raw 11.34kg Bag</td>\n",
       "      <td>Nuts</td>\n",
       "      <td>26.26</td>\n",
       "      <td>9.19</td>\n",
       "      <td>3</td>\n",
       "      <td>78.77</td>\n",
       "      <td>27.57</td>\n",
       "      <td>0.0</td>\n",
       "      <td>0.0</td>\n",
       "      <td>2</td>\n",
       "    </tr>\n",
       "    <tr>\n",
       "      <th>1</th>\n",
       "      <td>2016-04-06</td>\n",
       "      <td>Ord-6058810</td>\n",
       "      <td>cust-00038703</td>\n",
       "      <td>Mohammad Esparza</td>\n",
       "      <td>80123</td>\n",
       "      <td>Littleton</td>\n",
       "      <td>CO</td>\n",
       "      <td>Colorado</td>\n",
       "      <td>Nut-48306</td>\n",
       "      <td>Macadamia Style 5 Raw 11.34kg Bag</td>\n",
       "      <td>Nuts</td>\n",
       "      <td>26.26</td>\n",
       "      <td>9.19</td>\n",
       "      <td>1</td>\n",
       "      <td>26.26</td>\n",
       "      <td>9.19</td>\n",
       "      <td>0.0</td>\n",
       "      <td>0.0</td>\n",
       "      <td>2</td>\n",
       "    </tr>\n",
       "    <tr>\n",
       "      <th>2</th>\n",
       "      <td>2019-08-15</td>\n",
       "      <td>Ord-1857958</td>\n",
       "      <td>cust-00106675</td>\n",
       "      <td>Jada Porter</td>\n",
       "      <td>55433</td>\n",
       "      <td>Minneapolis</td>\n",
       "      <td>MN</td>\n",
       "      <td>Minnesota</td>\n",
       "      <td>Nut-48306</td>\n",
       "      <td>Macadamia Style 5 Raw 11.34kg Bag</td>\n",
       "      <td>Nuts</td>\n",
       "      <td>26.26</td>\n",
       "      <td>9.19</td>\n",
       "      <td>4</td>\n",
       "      <td>105.02</td>\n",
       "      <td>36.76</td>\n",
       "      <td>0.0</td>\n",
       "      <td>0.0</td>\n",
       "      <td>2</td>\n",
       "    </tr>\n",
       "    <tr>\n",
       "      <th>3</th>\n",
       "      <td>2019-10-01</td>\n",
       "      <td>Ord-8598538</td>\n",
       "      <td>cust-00188381</td>\n",
       "      <td>Ari Mcgrath</td>\n",
       "      <td>36201</td>\n",
       "      <td>Anniston</td>\n",
       "      <td>AL</td>\n",
       "      <td>Alabama</td>\n",
       "      <td>Nut-48306</td>\n",
       "      <td>Macadamia Style 5 Raw 11.34kg Bag</td>\n",
       "      <td>Nuts</td>\n",
       "      <td>26.26</td>\n",
       "      <td>9.19</td>\n",
       "      <td>3</td>\n",
       "      <td>78.77</td>\n",
       "      <td>27.57</td>\n",
       "      <td>0.0</td>\n",
       "      <td>0.0</td>\n",
       "      <td>2</td>\n",
       "    </tr>\n",
       "    <tr>\n",
       "      <th>4</th>\n",
       "      <td>2016-07-24</td>\n",
       "      <td>Ord-3416282</td>\n",
       "      <td>cust-00213804</td>\n",
       "      <td>Kaitlynn Watkins</td>\n",
       "      <td>46143</td>\n",
       "      <td>Greenwood</td>\n",
       "      <td>IN</td>\n",
       "      <td>Indiana</td>\n",
       "      <td>Nut-48306</td>\n",
       "      <td>Macadamia Style 5 Raw 11.34kg Bag</td>\n",
       "      <td>Nuts</td>\n",
       "      <td>26.26</td>\n",
       "      <td>9.19</td>\n",
       "      <td>4</td>\n",
       "      <td>105.02</td>\n",
       "      <td>36.76</td>\n",
       "      <td>0.0</td>\n",
       "      <td>0.0</td>\n",
       "      <td>2</td>\n",
       "    </tr>\n",
       "  </tbody>\n",
       "</table>\n",
       "</div>"
      ],
      "text/plain": [
       "  order_date order_number    customer_id     customer_name  zipcode  \\\n",
       "0 2019-11-13  Ord-3255406  cust-00004673      Ariana Nixon    32162   \n",
       "1 2016-04-06  Ord-6058810  cust-00038703  Mohammad Esparza    80123   \n",
       "2 2019-08-15  Ord-1857958  cust-00106675       Jada Porter    55433   \n",
       "3 2019-10-01  Ord-8598538  cust-00188381       Ari Mcgrath    36201   \n",
       "4 2016-07-24  Ord-3416282  cust-00213804  Kaitlynn Watkins    46143   \n",
       "\n",
       "           city state_id state_name product_code  \\\n",
       "0  The Villages       FL    Florida    Nut-48306   \n",
       "1     Littleton       CO   Colorado    Nut-48306   \n",
       "2   Minneapolis       MN  Minnesota    Nut-48306   \n",
       "3      Anniston       AL    Alabama    Nut-48306   \n",
       "4     Greenwood       IN    Indiana    Nut-48306   \n",
       "\n",
       "                        product_name category  unit_price  unit_profit  \\\n",
       "0  Macadamia Style 5 Raw 11.34kg Bag     Nuts       26.26         9.19   \n",
       "1  Macadamia Style 5 Raw 11.34kg Bag     Nuts       26.26         9.19   \n",
       "2  Macadamia Style 5 Raw 11.34kg Bag     Nuts       26.26         9.19   \n",
       "3  Macadamia Style 5 Raw 11.34kg Bag     Nuts       26.26         9.19   \n",
       "4  Macadamia Style 5 Raw 11.34kg Bag     Nuts       26.26         9.19   \n",
       "\n",
       "   quantity  revenue  profit  discount_percentage  discount_amount  \\\n",
       "0         3    78.77   27.57                  0.0              0.0   \n",
       "1         1    26.26    9.19                  0.0              0.0   \n",
       "2         4   105.02   36.76                  0.0              0.0   \n",
       "3         3    78.77   27.57                  0.0              0.0   \n",
       "4         4   105.02   36.76                  0.0              0.0   \n",
       "\n",
       "   lead_time_weeks  \n",
       "0                2  \n",
       "1                2  \n",
       "2                2  \n",
       "3                2  \n",
       "4                2  "
      ]
     },
     "execution_count": 529,
     "metadata": {},
     "output_type": "execute_result"
    }
   ],
   "source": [
    "# Checking the first few rows of the sales_data2 dataset after preprocessing\n",
    "sales_data2.head()"
   ]
  },
  {
   "cell_type": "markdown",
   "id": "ded167c9",
   "metadata": {},
   "source": [
    "## Exploratory Data Analysis\n",
    "\n",
    "I'm exploring the dataset further to gain more insights and I'll do sales trends, customer distribution and product distribution to determine to optimal location for a second warehouse."
   ]
  },
  {
   "cell_type": "code",
   "execution_count": 530,
   "id": "d601aa4b",
   "metadata": {},
   "outputs": [],
   "source": [
    "# Sales trends over the years\n",
    "sales_data2['year'] = sales_data2['order_date'].dt.year\n",
    "yearly_sales = sales_data2.groupby('year')['revenue'].sum()"
   ]
  },
  {
   "cell_type": "code",
   "execution_count": 531,
   "id": "2b712d3d",
   "metadata": {},
   "outputs": [
    {
     "name": "stdout",
     "output_type": "stream",
     "text": [
      "Total Revenue for 2016: $479933\n",
      "Total Revenue for 2017: $785662\n",
      "Total Revenue for 2018: $1330171\n",
      "Total Revenue for 2019: $2321759\n",
      "Total Revenue for 2020: $4099649\n"
     ]
    }
   ],
   "source": [
    "# Print out the total revenue for each year separately\n",
    "for year, revenue in yearly_sales.items():\n",
    "    print(f'Total Revenue for {year}: ${revenue:.0f}')"
   ]
  },
  {
   "cell_type": "code",
   "execution_count": 532,
   "id": "3ee46f6b",
   "metadata": {},
   "outputs": [],
   "source": [
    "# Customer distribution by state\n",
    "state_customers = sales_data2.groupby('state_name')['customer_id'].nunique()"
   ]
  },
  {
   "cell_type": "code",
   "execution_count": 533,
   "id": "1620a2cb",
   "metadata": {},
   "outputs": [
    {
     "name": "stdout",
     "output_type": "stream",
     "text": [
      "Misc      43000\n",
      "Nuts      29127\n",
      "Fruit     23907\n",
      "Seeds     12483\n",
      "Flours     6357\n",
      "Cereal     5126\n",
      "Name: category, dtype: int64\n"
     ]
    }
   ],
   "source": [
    "# Product distribution by category\n",
    "category_counts = sales_data2['category'].value_counts()\n",
    "\n",
    "print(category_counts)"
   ]
  },
  {
   "cell_type": "code",
   "execution_count": 534,
   "id": "d271f8ce",
   "metadata": {
    "scrolled": true
   },
   "outputs": [
    {
     "name": "stdout",
     "output_type": "stream",
     "text": [
      "The number of unique customers is: 9663\n"
     ]
    },
    {
     "data": {
      "image/png": "[encoded data removed]",
      "text/plain": [
       "<Figure size 1200x500 with 3 Axes>"
      ]
     },
     "metadata": {},
     "output_type": "display_data"
    }
   ],
   "source": [
    "# Getting the top 5 states by customer distribution\n",
    "top_states = state_customers.sort_values(ascending=False).head(5)\n",
    "\n",
    "# Total number of unique customers in all 5 states\n",
    "\n",
    "unique_customers = sales_data2['customer_id'].nunique()\n",
    "\n",
    "print(f'The number of unique customers is: {unique_customers}')\n",
    "\n",
    "# Visualizing the results \n",
    "plt.figure(figsize=(12, 5))\n",
    "\n",
    "plt.subplot(131)\n",
    "ax = yearly_sales.plot(kind='bar', color='salmon')\n",
    "plt.xlabel('Year')\n",
    "plt.ylabel('Total Revenue')\n",
    "plt.title('Yearly Sales Trend')\n",
    "\n",
    "# Formatting Y-axis ticks as integers for revenue\n",
    "ax.yaxis.set_major_formatter(mtick.FormatStrFormatter('%.0f'))\n",
    "\n",
    "plt.subplot(132)\n",
    "top_states.plot(kind='bar', color='skyblue')\n",
    "plt.xlabel('State')\n",
    "plt.ylabel('Number of Customers')\n",
    "plt.title('Customer Distribution by State')\n",
    "\n",
    "plt.subplot(133)\n",
    "category_counts.plot(kind='bar', color='lightgreen')\n",
    "plt.xlabel('Product Category')\n",
    "plt.ylabel('Number of Orders')\n",
    "plt.title('Product Distribution by Category')\n",
    "\n",
    "plt.tight_layout()\n",
    "plt.show()"
   ]
  },
  {
   "cell_type": "code",
   "execution_count": 535,
   "id": "c95db0a0",
   "metadata": {},
   "outputs": [
    {
     "name": "stdout",
     "output_type": "stream",
     "text": [
      "   state_name     revenue\n",
      "0  California  1434269.27\n",
      "4       Texas   833455.92\n",
      "3    New York   594045.55\n",
      "1     Florida   562208.19\n",
      "2    Illinois   390226.54\n"
     ]
    }
   ],
   "source": [
    "# Filter the data for the top 5 states\n",
    "top_states = ['California', 'Texas', 'New York', 'Florida', 'Illinois']\n",
    "filtered_data = sales_data2[sales_data2['state_name'].isin(top_states)]\n",
    "\n",
    "# Calculate the overall revenue for each state\n",
    "state_revenue = filtered_data.groupby('state_name')['revenue'].sum().reset_index()\n",
    "\n",
    "# Sort the states by revenue in descending order\n",
    "state_revenue = state_revenue.sort_values(by='revenue', ascending=False)\n",
    "\n",
    "# Print the overall revenue for the top 5 states\n",
    "print(state_revenue)"
   ]
  },
  {
   "cell_type": "code",
   "execution_count": 536,
   "id": "dddf4066",
   "metadata": {},
   "outputs": [
    {
     "name": "stdout",
     "output_type": "stream",
     "text": [
      "   state_name     profit\n",
      "0  California  543800.63\n",
      "4       Texas  314806.22\n",
      "3    New York  225210.31\n",
      "1     Florida  212110.04\n",
      "2    Illinois  147963.95\n"
     ]
    }
   ],
   "source": [
    "# Filter the data for the top 5 states\n",
    "top_states = ['California', 'Texas', 'New York', 'Florida', 'Illinois']\n",
    "filtered_data = sales_data2[sales_data2['state_name'].isin(top_states)]\n",
    "\n",
    "# Calculate the overall profit for each state\n",
    "state_profit = filtered_data.groupby('state_name')['profit'].sum().reset_index()\n",
    "\n",
    "# Sort the states by profit in descending order\n",
    "state_profit = state_profit.sort_values(by='profit', ascending=False)\n",
    "\n",
    "# Print the overall profit for the top 5 states\n",
    "print(state_profit)"
   ]
  },
  {
   "cell_type": "code",
   "execution_count": 537,
   "id": "648f0f79",
   "metadata": {},
   "outputs": [
    {
     "name": "stdout",
     "output_type": "stream",
     "text": [
      "The most popular product category in California is 'Misc' with 6765 orders.\n"
     ]
    }
   ],
   "source": [
    "# Filter the sales data for California\n",
    "california_sales = sales_data2[sales_data2['state_name'] == 'California']\n",
    "\n",
    "# Group the data by product category and count the number of orders in each category\n",
    "category_counts = california_sales.groupby('category')['order_number'].count()\n",
    "\n",
    "# Find the most popular product category\n",
    "most_popular_category = category_counts.idxmax()\n",
    "num_orders_most_popular = category_counts.max()\n",
    "\n",
    "print(f\"The most popular product category in California is '{most_popular_category}' with {num_orders_most_popular} orders.\")"
   ]
  },
  {
   "cell_type": "code",
   "execution_count": null,
   "id": "c3c917af",
   "metadata": {},
   "outputs": [],
   "source": []
  },
  {
   "cell_type": "code",
   "execution_count": 538,
   "id": "8cc97216",
   "metadata": {},
   "outputs": [
    {
     "name": "stdout",
     "output_type": "stream",
     "text": [
      "state_name\n",
      "Alabama                   98\n",
      "Alaska                    12\n",
      "Arizona                  224\n",
      "Arkansas                  58\n",
      "California              1530\n",
      "Colorado                 181\n",
      "Connecticut              101\n",
      "Delaware                  35\n",
      "District of Columbia      23\n",
      "Florida                  613\n",
      "Georgia                  313\n",
      "Hawaii                    60\n",
      "Idaho                     45\n",
      "Illinois                 425\n",
      "Indiana                  184\n",
      "Iowa                      59\n",
      "Kansas                    49\n",
      "Kentucky                 102\n",
      "Louisiana                116\n",
      "Maine                     20\n",
      "Maryland                 199\n",
      "Massachusetts            165\n",
      "Michigan                 269\n",
      "Minnesota                145\n",
      "Mississippi               61\n",
      "Missouri                 134\n",
      "Montana                   20\n",
      "Nebraska                  39\n",
      "Nevada                    99\n",
      "New Hampshire             25\n",
      "New Jersey               260\n",
      "New Mexico                72\n",
      "New York                 615\n",
      "North Carolina           285\n",
      "North Dakota               7\n",
      "Ohio                     354\n",
      "Oklahoma                  74\n",
      "Oregon                   121\n",
      "Pennsylvania             333\n",
      "Puerto Rico              164\n",
      "Rhode Island              31\n",
      "South Carolina           129\n",
      "South Dakota              15\n",
      "Tennessee                186\n",
      "Texas                    892\n",
      "Utah                      93\n",
      "Vermont                    1\n",
      "Virginia                 252\n",
      "Washington               191\n",
      "West Virginia             30\n",
      "Wisconsin                142\n",
      "Wyoming                   12\n",
      "Name: customer_id, dtype: int64\n"
     ]
    }
   ],
   "source": [
    "# Customer distribution for all states\n",
    "print(state_customers)"
   ]
  },
  {
   "cell_type": "code",
   "execution_count": 539,
   "id": "f3596873",
   "metadata": {},
   "outputs": [
    {
     "name": "stdout",
     "output_type": "stream",
     "text": [
      "['California', 'Texas', 'New York', 'Florida', 'Illinois']\n"
     ]
    }
   ],
   "source": [
    "# Customer distribution for top 5 states\n",
    "print(top_states)"
   ]
  },
  {
   "cell_type": "markdown",
   "id": "6a8b9351",
   "metadata": {},
   "source": [
    "## Geospatial Analysis\n",
    "Determing the optimal warehouse location by performing a geospatial analysis by visualizing customer distribution on a map. "
   ]
  },
  {
   "cell_type": "code",
   "execution_count": 540,
   "id": "94df791d",
   "metadata": {},
   "outputs": [],
   "source": [
    "# Customer distribution data for Top 5 states\n",
    "state_customers = pd.Series({'California': 1530, 'Texas': 892, 'New York': 615, 'Florida': 613, 'Illinois': 425})\n",
    "\n",
    "# Customer distribution data for all states\n",
    "state_customers2 = pd.Series({'Alabama': 98, 'Alaska': 12, 'Arizona': 224, 'Arkansas': 58, 'California': 1530, 'Colorado': 181, 'Connecticut': 101, 'Delaware': 35, 'District of Columbia': 23, 'Florida': 613, 'Georgia': 313, 'Hawaii': 60, 'Idaho': 45, 'Illinois': 425, 'Indiana': 184, 'Iowa': 59, 'Kansas': 49, 'Kentucky': 102, 'Louisiana': 116, 'Maine': 20, 'Maryland': 199, 'Massachusetts': 165, 'Michigan': 269, 'Minnesota': 145, 'Mississippi': 61, 'Missouri': 134, 'Montana': 20, 'Nebraska': 39, 'Nevada': 99, 'New Hampshire': 25, 'New Jersey': 260, 'New Mexico': 72, 'New York': 615, 'North Carolina': 285, 'North Dakota': 7, 'Ohio': 354, 'Oklahoma': 74, 'Oregon': 121, 'Pennsylvania': 333, 'Puerto Rico': 164, 'Rhode Island': 31, 'South Carolina': 129, 'South Dakota': 15, 'Tennessee': 186, 'Texas': 892, 'Utah': 93, 'Vermont': 1, 'Virginia': 252, 'Washington': 191, 'West Virginia': 30, 'Wisconsin': 142, 'Wyoming': 12})"
   ]
  },
  {
   "cell_type": "code",
   "execution_count": 541,
   "id": "6433ab6b",
   "metadata": {},
   "outputs": [
    {
     "name": "stdout",
     "output_type": "stream",
     "text": [
      "           featurecla  scalerank adm1_code  diss_me iso_3166_2  \\\n",
      "0  Admin-1 scale rank          2  USA-3514     3514      US-MN   \n",
      "1  Admin-1 scale rank          2  USA-3515     3515      US-MT   \n",
      "2  Admin-1 scale rank          2  USA-3516     3516      US-ND   \n",
      "3  Admin-1 scale rank          2  USA-3517     3517      US-HI   \n",
      "4  Admin-1 scale rank          2  USA-3518     3518      US-ID   \n",
      "\n",
      "                                   wikipedia iso_a2  adm0_sr          name  \\\n",
      "0     http://en.wikipedia.org/wiki/Minnesota     US        1     Minnesota   \n",
      "1       http://en.wikipedia.org/wiki/Montana     US        1       Montana   \n",
      "2  http://en.wikipedia.org/wiki/North_Dakota     US        1  North Dakota   \n",
      "3        http://en.wikipedia.org/wiki/Hawaii     US        8        Hawaii   \n",
      "4         http://en.wikipedia.org/wiki/Idaho     US        1         Idaho   \n",
      "\n",
      "    name_alt  ...  FCLASS_ID FCLASS_PL FCLASS_GR FCLASS_IT FCLASS_NL  \\\n",
      "0   MN|Minn.  ...        NaN       NaN       NaN       NaN       NaN   \n",
      "1   MT|Mont.  ...        NaN       NaN       NaN       NaN       NaN   \n",
      "2    ND|N.D.  ...        NaN       NaN       NaN       NaN       NaN   \n",
      "3  HI|Hawaii  ...        NaN       NaN       NaN       NaN       NaN   \n",
      "4   ID|Idaho  ...        NaN       NaN       NaN       NaN       NaN   \n",
      "\n",
      "   FCLASS_SE FCLASS_BD FCLASS_UA  FCLASS_TLC  \\\n",
      "0        NaN       NaN       NaN         NaN   \n",
      "1        NaN       NaN       NaN         NaN   \n",
      "2        NaN       NaN       NaN         NaN   \n",
      "3        NaN       NaN       NaN         NaN   \n",
      "4        NaN       NaN       NaN         NaN   \n",
      "\n",
      "                                            geometry  \n",
      "0  POLYGON ((-89.95766 47.28691, -90.13175 47.292...  \n",
      "1  POLYGON ((-116.04823 49.00037, -113.05950 49.0...  \n",
      "2  POLYGON ((-97.22894 49.00089, -97.21414 48.902...  \n",
      "3  MULTIPOLYGON (((-155.93665 19.05939, -155.9080...  \n",
      "4  POLYGON ((-116.04823 49.00037, -115.96780 47.9...  \n",
      "\n",
      "[5 rows x 122 columns]\n"
     ]
    }
   ],
   "source": [
    "# Downloaded a shapefile to show customer distribution for only Top 5 States\n",
    "us_states = gpd.read_file('ne_110m_admin_1_states_provinces.shp')\n",
    "\n",
    "print(us_states.head())"
   ]
  },
  {
   "cell_type": "code",
   "execution_count": 542,
   "id": "e792e540",
   "metadata": {},
   "outputs": [
    {
     "name": "stdout",
     "output_type": "stream",
     "text": [
      "            featurecla  scalerank adm1_code  diss_me iso_3166_2  \\\n",
      "7   Admin-1 scale rank          2  USA-3521     3521      US-CA   \n",
      "22  Admin-1 scale rank          2  USA-3536     3536      US-TX   \n",
      "29  Admin-1 scale rank          2  USA-3542     3542      US-FL   \n",
      "33  Admin-1 scale rank          2  USA-3546     3546      US-IL   \n",
      "46  Admin-1 scale rank          2  USA-3559     3559      US-NY   \n",
      "\n",
      "                                  wikipedia iso_a2  adm0_sr        name  \\\n",
      "7   http://en.wikipedia.org/wiki/California     US        8  California   \n",
      "22       http://en.wikipedia.org/wiki/Texas     US        4       Texas   \n",
      "29     http://en.wikipedia.org/wiki/Florida     US        5     Florida   \n",
      "33    http://en.wikipedia.org/wiki/Illinois     US        1    Illinois   \n",
      "46    http://en.wikipedia.org/wiki/New_York     US        3    New York   \n",
      "\n",
      "     name_alt  ...  FCLASS_ID FCLASS_PL FCLASS_GR FCLASS_IT FCLASS_NL  \\\n",
      "7   CA|Calif.  ...        NaN       NaN       NaN       NaN       NaN   \n",
      "22    TX|Tex.  ...        NaN       NaN       NaN       NaN       NaN   \n",
      "29    FL|Fla.  ...        NaN       NaN       NaN       NaN       NaN   \n",
      "33    IL|Ill.  ...        NaN       NaN       NaN       NaN       NaN   \n",
      "46    NY|N.Y.  ...        NaN       NaN       NaN       NaN       NaN   \n",
      "\n",
      "    FCLASS_SE FCLASS_BD FCLASS_UA  FCLASS_TLC  \\\n",
      "7         NaN       NaN       NaN         NaN   \n",
      "22        NaN       NaN       NaN         NaN   \n",
      "29        NaN       NaN       NaN         NaN   \n",
      "33        NaN       NaN       NaN         NaN   \n",
      "46        NaN       NaN       NaN         NaN   \n",
      "\n",
      "                                             geometry  \n",
      "7   POLYGON ((-114.64222 35.05311, -114.62212 34.9...  \n",
      "22  POLYGON ((-106.50734 31.75429, -106.61953 31.9...  \n",
      "29  POLYGON ((-87.53039 30.27420, -87.45789 30.411...  \n",
      "33  POLYGON ((-91.43033 40.36860, -91.41023 40.551...  \n",
      "46  POLYGON ((-73.49794 42.05451, -73.55349 41.289...  \n",
      "\n",
      "[5 rows x 122 columns]\n"
     ]
    }
   ],
   "source": [
    "# Filter the GeoDataFrame to include only Top 5 U.S. states based on customer distribution\n",
    "us_states = us_states[us_states['name'].isin(state_customers.index)]\n",
    "\n",
    "# Filter the GeoDataFrame to include all U.S. states\n",
    "us_states2 = us_states[us_states['name'].isin(state_customers2.index)]\n",
    "\n",
    "# Print the columns of the filtered GeoDataFrame\n",
    "print(us_states)"
   ]
  },
  {
   "cell_type": "code",
   "execution_count": 543,
   "id": "5d9fc2a4",
   "metadata": {},
   "outputs": [],
   "source": [
    "# Merge customer distribution data with state shapefile for Top 5 states\n",
    "state_customers_df = pd.DataFrame({'state_name': state_customers.index, 'num_customers': state_customers.values})\n",
    "merged_states = us_states.set_index('name').join(state_customers_df.set_index('state_name'))\n",
    "\n",
    "# Merge customer distribution data with state shapefile for all states for clustering analysis\n",
    "state_customers_df2 = pd.DataFrame({'state_name': state_customers2.index, 'num_customers': state_customers2.values})\n",
    "merged_states2 = us_states2.set_index('name').join(state_customers_df2.set_index('state_name'))"
   ]
  },
  {
   "cell_type": "code",
   "execution_count": 544,
   "id": "7f53ee53",
   "metadata": {
    "scrolled": true
   },
   "outputs": [
    {
     "data": {
      "image/png": "[encoded data removed]",
      "text/plain": [
       "<Figure size 2600x1000 with 2 Axes>"
      ]
     },
     "metadata": {},
     "output_type": "display_data"
    }
   ],
   "source": [
    "# Creating a figure and axis\n",
    "fig, ax = plt.subplots(1, 1, figsize=(26, 10))\n",
    "\n",
    "# To re-project the geometrics to a projected Coordinate Reference System\n",
    "merged_states = merged_states.to_crs(epsg=3857) \n",
    "\n",
    "# Setting custom colors for states and background\n",
    "state_color = 'lightblue'  # Custom color for states\n",
    "background_color = 'lightgray'  # Setting background color\n",
    "\n",
    "# Plotting a map of customer distribution with custom colors\n",
    "ax.set_facecolor(background_color)  # Setting background color\n",
    "merged_states.plot(column='num_customers', cmap='YlGnBu', linewidth=0.8, ax=ax, edgecolor='0.8', legend=True)\n",
    "\n",
    "# Setting labels for x and y axes\n",
    "ax.set_xlabel('Longitude')\n",
    "ax.set_ylabel('Latitude')\n",
    "\n",
    "# Adding state names as labels on the map\n",
    "for x, y, label in zip(merged_states.geometry.centroid.x, merged_states.geometry.centroid.y, merged_states.index):\n",
    "    ax.text(x, y, label, fontsize=12, ha='center', va='center', color='gray')\n",
    "\n",
    "# Setting the title\n",
    "ax.set_title('Customer Distribution by Top 5 States')\n",
    "\n",
    "plt.show()"
   ]
  },
  {
   "cell_type": "markdown",
   "id": "b7d2b099",
   "metadata": {},
   "source": [
    "## Clustering Analysis\n"
   ]
  },
  {
   "cell_type": "code",
   "execution_count": 545,
   "id": "ad533226",
   "metadata": {},
   "outputs": [],
   "source": [
    "# Selecting relevant features for clustering\n",
    "X = merged_states2[['num_customers']]\n",
    "\n",
    "# Determining the optimal number of clusters (k)\n",
    "inertia = []\n",
    "for k in range(1, 6):\n",
    "    kmeans = KMeans(n_clusters=k, random_state=0, n_init=10).fit(X)\n",
    "    inertia.append(kmeans.inertia_)"
   ]
  },
  {
   "cell_type": "code",
   "execution_count": 546,
   "id": "0b5793af",
   "metadata": {
    "scrolled": true
   },
   "outputs": [
    {
     "data": {
      "image/png": "[encoded data removed]",
      "text/plain": [
       "<Figure size 800x500 with 1 Axes>"
      ]
     },
     "metadata": {},
     "output_type": "display_data"
    }
   ],
   "source": [
    "# Elbow method to find the optimal k\n",
    "plt.figure(figsize=(8, 5))\n",
    "plt.plot(range(1, 6), inertia, marker='o', linestyle='--')\n",
    "plt.xlabel('Number of Clusters (k)')\n",
    "plt.ylabel('Inertia')\n",
    "plt.title('Optimal Number of Clusters')\n",
    "plt.show()"
   ]
  },
  {
   "cell_type": "code",
   "execution_count": 547,
   "id": "247c95c6",
   "metadata": {},
   "outputs": [
    {
     "name": "stdout",
     "output_type": "stream",
     "text": [
      "        State  Cluster\n",
      "0  California        1\n",
      "1       Texas        2\n",
      "2     Florida        0\n",
      "3    Illinois        3\n",
      "4    New York        0\n"
     ]
    }
   ],
   "source": [
    "# Based on the elbow method, I chose an optimal k value k=4\n",
    "k = 4\n",
    "kmeans = KMeans(n_clusters=k, random_state=0, n_init=10).fit(X)\n",
    "merged_states2['cluster'] = kmeans.labels_\n",
    "\n",
    "# View the cluster assignments for each state\n",
    "cluster_assignments = pd.DataFrame({'State': merged_states2.index, 'Cluster': kmeans.labels_})\n",
    "\n",
    "# Print the cluster assignments\n",
    "print(cluster_assignments)"
   ]
  },
  {
   "cell_type": "code",
   "execution_count": 548,
   "id": "40a6cc10",
   "metadata": {},
   "outputs": [
    {
     "name": "stdout",
     "output_type": "stream",
     "text": [
      "Cluster 0: Florida, New York\n",
      "Cluster 1: California\n",
      "Cluster 2: Texas\n",
      "Cluster 3: Illinois\n"
     ]
    }
   ],
   "source": [
    "# Grouping the DataFrame by cluster and list the states in each cluster\n",
    "clustered_states = cluster_assignments.groupby('Cluster')['State'].apply(list)\n",
    "\n",
    "# Print the states in each cluster\n",
    "for cluster, states in clustered_states.items():\n",
    "    print(f'Cluster {cluster}: {\", \".join(states)}')"
   ]
  }
 ],
 "metadata": {
  "kernelspec": {
   "display_name": "Python 3 (ipykernel)",
   "language": "python",
   "name": "python3"
  },
  "language_info": {
   "codemirror_mode": {
    "name": "ipython",
    "version": 3
   },
   "file_extension": ".py",
   "mimetype": "text/x-python",
   "name": "python",
   "nbconvert_exporter": "python",
   "pygments_lexer": "ipython3",
   "version": "3.11.4"
  }
 },
 "nbformat": 4,
 "nbformat_minor": 5
}
